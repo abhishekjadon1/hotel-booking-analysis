{
  "nbformat": 4,
  "nbformat_minor": 0,
  "metadata": {
    "colab": {
      "private_outputs": true,
      "provenance": [],
      "collapsed_sections": [
        "gIfDvo9L0UH2"
      ],
      "cell_execution_strategy": "setup",
      "include_colab_link": true
    },
    "kernelspec": {
      "name": "python3",
      "display_name": "Python 3"
    },
    "language_info": {
      "name": "python"
    }
  },
  "cells": [
    {
      "cell_type": "markdown",
      "metadata": {
        "id": "view-in-github",
        "colab_type": "text"
      },
      "source": [
        "<a href=\"https://colab.research.google.com/github/abhishekjadon1/hotel-booking-analysis/blob/main/hotel_booking_Analysis.ipynb\" target=\"_parent\"><img src=\"https://colab.research.google.com/assets/colab-badge.svg\" alt=\"Open In Colab\"/></a>"
      ]
    },
    {
      "cell_type": "markdown",
      "source": [
        "# **Project Name**    -\n",
        "\n"
      ],
      "metadata": {
        "id": "vncDsAP0Gaoa"
      }
    },
    {
      "cell_type": "markdown",
      "source": [
        "##### **Project Type**    - Hotel Booking Analysis\n",
        "##### **Contribution**    - Individual\n"
      ],
      "metadata": {
        "id": "beRrZCGUAJYm"
      }
    },
    {
      "cell_type": "markdown",
      "source": [
        "# **Project Summary -**"
      ],
      "metadata": {
        "id": "FJNUwmbgGyua"
      }
    },
    {
      "cell_type": "markdown",
      "source": [
        "This EDA project on Hotel Booking Analysis investigates cancellations, and their underlying patterns; and suggests measures that can be implemented to reduce cancellations and secure revenue1:\n",
        "\n",
        "The project covers booking information for a city hotel and a resort hotel including information such as when the booking was made, length of stay, the number of adults, children. The project went through the basic idea of the EDA and visualization process.\n",
        "\n",
        "In this project I will do Exploratory Data Analysis on the given dataset. The project suggests measures that can be implemented to reduce cancellations and secure revenue. For example, hotels can offer discounts or promotions to customers who book early or who book for longer stays. Hotels can also offer incentives such as free parking or free breakfast to customers who book directly with them instead of through third-party websites.\n",
        "\n",
        "This EDA involves following steps where in first step involves exploration and inspection over raw data, and second in second step I have dealt with data impurities and cleaned the data by andling null values and dropping irrelevent data from the dataset.\n",
        "\n",
        "This EDA is divided into following 3 analysis: Univariate analysis: Univariate analysis is the simplest of the three analyses where the data, you are analyzing is only one variable. Bivariate analysis: Bivariate analysis is where you are comparing two variables to study their relationships. Multivariate analysis: Multivariate analysis is similar to Bivariate analysis but you are comparing more than two variables.\n",
        "\n",
        "The project concludes that by analyzing hotel bookings data and understanding cancellations patterns, hotels can take steps to reduce cancellations and increase revenue.\n"
      ],
      "metadata": {
        "id": "F6v_1wHtG2nS"
      }
    },
    {
      "cell_type": "markdown",
      "source": [
        "# **GitHub Link -**"
      ],
      "metadata": {
        "id": "w6K7xa23Elo4"
      }
    },
    {
      "cell_type": "markdown",
      "source": [
        "https://github.com/abhishekjadon1/hotel-booking-analysis/blob/main/hotel%20booking%20Analysis%20-%20Colab.html"
      ],
      "metadata": {
        "id": "h1o69JH3Eqqn"
      }
    },
    {
      "cell_type": "markdown",
      "source": [
        "# **Problem Statement**\n"
      ],
      "metadata": {
        "id": "yQaldy8SH6Dl"
      }
    },
    {
      "cell_type": "markdown",
      "source": [
        "Have you ever wondered when the best time of year to book a hotel room is? Or the optimal length of stay in order to get the best daily rate? What if you wanted to predict whether or not a hotel was likely to receive a disproportionately high number of special requests? This hotel booking dataset can help you explore those questions! This data set contains booking information for a city hotel and a resort hotel, and includes information such as when the booking was made, length of stay, the number of adults, children, and/or babies, and the number of available parking spaces, among other things. All personally Identifying information has been removed from the data.."
      ],
      "metadata": {
        "id": "DpeJGUA3kjGy"
      }
    },
    {
      "cell_type": "markdown",
      "source": [
        "#### **Define Your Business Objective?**"
      ],
      "metadata": {
        "id": "PH-0ReGfmX4f"
      }
    },
    {
      "cell_type": "markdown",
      "source": [
        "The project aims to gain interesting insight into customers' behavior when booking a hotel. The demand for different segment of customer may differ and forecasting become harder as it may requires different model for different segment. These insights can guide hotels to adjust their customer strategies and make preparation for unknown"
      ],
      "metadata": {
        "id": "PhDvGCAqmjP1"
      }
    },
    {
      "cell_type": "markdown",
      "source": [
        "# ***Let's Begin !***"
      ],
      "metadata": {
        "id": "O_i_v8NEhb9l"
      }
    },
    {
      "cell_type": "markdown",
      "source": [
        "1. Know Your Data"
      ],
      "metadata": {
        "id": "HhfV-JJviCcP"
      }
    },
    {
      "cell_type": "markdown",
      "source": [
        "### Import Libraries"
      ],
      "metadata": {
        "id": "Y3lxredqlCYt"
      }
    },
    {
      "cell_type": "code",
      "source": [
        "# Importing neccessay Libraries needed in EDA\n",
        "import numpy as pd\n",
        "import pandas as pd\n",
        "# for visiualisation\n",
        "import seaborn as sns\n",
        "import matplotlib.pyplot as plt\n",
        "%matplotlib inline\n",
        "import plotly.express as px            # will be used for plotting"
      ],
      "metadata": {
        "id": "M8Vqi-pPk-HR"
      },
      "execution_count": null,
      "outputs": []
    },
    {
      "cell_type": "markdown",
      "source": [
        "### Dataset Loading"
      ],
      "metadata": {
        "id": "3RnN4peoiCZX"
      }
    },
    {
      "cell_type": "code",
      "source": [
        "from google.colab import drive\n",
        "drive.mount('/content/drive')"
      ],
      "metadata": {
        "id": "jwIJ206b9cJI"
      },
      "execution_count": null,
      "outputs": []
    },
    {
      "cell_type": "code",
      "source": [
        "from os import path\n",
        "path  = '/content/drive/MyDrive/data/Hotel Bookings (1).xlsx'\n",
        "df = pd.read_excel(path)\n"
      ],
      "metadata": {
        "id": "maAzDL1iF4Iy"
      },
      "execution_count": null,
      "outputs": []
    },
    {
      "cell_type": "markdown",
      "source": [
        "### Dataset First View"
      ],
      "metadata": {
        "id": "x71ZqKXriCWQ"
      }
    },
    {
      "cell_type": "code",
      "source": [
        "# Dataset First Look\n",
        "df.head()\n"
      ],
      "metadata": {
        "id": "LWNFOSvLl09H"
      },
      "execution_count": null,
      "outputs": []
    },
    {
      "cell_type": "markdown",
      "source": [
        "### Dataset Rows & Columns count"
      ],
      "metadata": {
        "id": "7hBIi_osiCS2"
      }
    },
    {
      "cell_type": "code",
      "source": [
        "# Dataset Rows & Columns count\n",
        "df.shape\n",
        "\n"
      ],
      "metadata": {
        "id": "Kllu7SJgmLij"
      },
      "execution_count": null,
      "outputs": []
    },
    {
      "cell_type": "markdown",
      "source": [
        "### Dataset Information"
      ],
      "metadata": {
        "id": "JlHwYmJAmNHm"
      }
    },
    {
      "cell_type": "code",
      "source": [
        "# Dataset Info\n",
        "df.info()"
      ],
      "metadata": {
        "id": "e9hRXRi6meOf"
      },
      "execution_count": null,
      "outputs": []
    },
    {
      "cell_type": "markdown",
      "source": [
        "#### Duplicate Values"
      ],
      "metadata": {
        "id": "35m5QtbWiB9F"
      }
    },
    {
      "cell_type": "code",
      "source": [
        "# Dataset Duplicate Value Count\n",
        "len(df[df.duplicated()])"
      ],
      "metadata": {
        "id": "1sLdpKYkmox0"
      },
      "execution_count": null,
      "outputs": []
    },
    {
      "cell_type": "markdown",
      "source": [
        "There are 31994 duplicate values"
      ],
      "metadata": {
        "id": "PhIGXVdlMTCX"
      }
    },
    {
      "cell_type": "code",
      "source": [
        "df.drop_duplicates(inplace=True)"
      ],
      "metadata": {
        "id": "5cMaJrETMKxl"
      },
      "execution_count": null,
      "outputs": []
    },
    {
      "cell_type": "code",
      "source": [
        "df.shape"
      ],
      "metadata": {
        "id": "KOpksshnMeql"
      },
      "execution_count": null,
      "outputs": []
    },
    {
      "cell_type": "markdown",
      "source": [
        "#### Missing Values/Null Values"
      ],
      "metadata": {
        "id": "PoPl-ycgm1ru"
      }
    },
    {
      "cell_type": "code",
      "source": [
        "# Missing Values/Null Values Count\n",
        "print(df.isnull().sum())"
      ],
      "metadata": {
        "id": "GgHWkxvamxVg"
      },
      "execution_count": null,
      "outputs": []
    },
    {
      "cell_type": "code",
      "source": [
        "# Visualizing the missing values\n",
        "# checking Null Value by plotting heatmap\n",
        "plt.figure(figsize=(20,8))\n",
        "sns.heatmap(df.isnull(),yticklabels=False,cbar=False,cmap='viridis')\n",
        "cmap=\"YlGnBu\",\n",
        "cbar_kws={'label': 'Missing Data'}\n",
        "plt.title('Missing values',fontsize=18)\n",
        "plt.show"
      ],
      "metadata": {
        "id": "3q5wnI3om9sJ"
      },
      "execution_count": null,
      "outputs": []
    },
    {
      "cell_type": "markdown",
      "source": [
        "### What did you know about your dataset?"
      ],
      "metadata": {
        "id": "H0kj-8xxnORC"
      }
    },
    {
      "cell_type": "markdown",
      "source": [
        "We can see that there are total four columns with missing/null values: company, agent, country, children.\n",
        "\n",
        "1. In children column, I will replace null values with 0 assuming that customer did not have any children.\n",
        "\n",
        "2. Column country has null values. I will reolace null values in this column with 'Others' assuming customer's country was not mentioned while booking.\n",
        "\n",
        "3. In company and agent column it might be a case when customers did not book hotel through them so these columns might have null values in it. As these 2 columns have numeric data in it, I will replace them with 0."
      ],
      "metadata": {
        "id": "gfoNAAC-nUe_"
      }
    },
    {
      "cell_type": "markdown",
      "source": [
        "## ***2. Understanding Your Variables***"
      ],
      "metadata": {
        "id": "nA9Y7ga8ng1Z"
      }
    },
    {
      "cell_type": "code",
      "source": [
        "# Dataset Columns\n",
        "df.columns"
      ],
      "metadata": {
        "id": "j7xfkqrt5Ag5"
      },
      "execution_count": null,
      "outputs": []
    },
    {
      "cell_type": "code",
      "source": [
        "# Dataset Describe\n",
        "df.describe()"
      ],
      "metadata": {
        "id": "DnOaZdaE5Q5t"
      },
      "execution_count": null,
      "outputs": []
    },
    {
      "cell_type": "markdown",
      "source": [
        "### Variables Description"
      ],
      "metadata": {
        "id": "PBTbrJXOngz2"
      }
    },
    {
      "cell_type": "markdown",
      "source": [
        "Hotel: (Resort Hotel or City Hotel)\n",
        "\n",
        "is_canceled: Value indicating if the booking was canceled (1) or not (0)\n",
        "\n",
        "lead_time: * Number of days that elapsed between the entering date of the booking into the PMS and the arrival date*\n",
        "\n",
        "arrival_date_year: Year of arrival date\n",
        "\n",
        "arrival_date_month: Month of arrival date\n",
        "\n",
        "arrival_date_week_number: Week number of year for arrival date\n",
        "\n",
        "arrival_date_day_of_month: Day of arrival date\n",
        "\n",
        "stays_in_weekend_nights: Number of weekend nights (Saturday or Sunday) the guest stayed or booked to stay at the hotel\n",
        "\n",
        "stays_in_week_nights: Number of week nights (Monday to Friday) the guest stayed or booked to stay at the hotel\n",
        "\n",
        "adults: Number of adults\n",
        "\n",
        "children: Number of children\n",
        "\n",
        "babies: Number of babies\n",
        "\n",
        "meal: Type of meal booked. Categories are presented in standard hospitality meal packages\n",
        "\n",
        "country: Country of origin. market_segment: Market segment designation. In categories, the term \"TA\" means \"Travel Agents\" and \"TO\" means\n",
        "\"Tour Operators\n",
        "\n",
        "distribution_channel: Booking distribution channel. The term \"TA\" means \"Travel Agents\" and \"TO\" means \"Tour Operators\"\n",
        "\n",
        "is_repeated_guest: Value indicating if the booking name was from a repeated guest (1) or not (0)\n",
        "\n",
        "previous_cancellations: Number of previous bookings that were cancelled by the customer prior to the current booking\n",
        "\n",
        "previous_bookings_not_canceled: Number of previous bookings not cancelled by the customer prior to the current booking\n",
        "\n",
        "reserved_room_type: Code of room type reserved. Code is presented instead of designation for anonymity reasons.\n",
        "\n",
        "assigned_room_type: Code for the type of room assigned to the booking.\n",
        "\n",
        "booking_changes: Number of changes/amendments made to the booking from the moment the booking was entered on the PMS until the moment of check-in or cancellation\n",
        "\n",
        "deposit_type: Indication on if the customer made a deposit to guarantee the booking.\n",
        "\n",
        "agent: ID of the travel agency that made the booking\n",
        "\n",
        "company: ID of the company/entity that made the booking or responsible for paying the booking.\n",
        "\n",
        "days_in_waiting_list: Number of days the booking was in the waiting list before it was confirmed to the customer\n",
        "\n",
        "customer_type: Type of booking, assuming one of four categories\n",
        "\n",
        "adr: Average Daily Rate as defined by dividing the sum of all lodging transactions by the total number of staying nights\n",
        "\n",
        "required_car_parking_spaces: Number of car parking spaces required by the customer\n",
        "\n",
        "total_of_special_requests: Number of special requests made by the customer (e.g. twin bed or high floor)\n",
        "\n",
        "reservation_status: Reservation last status, assuming one of three categories\n",
        "\n",
        "Canceled - booking was canceled by the customer Check-Out - customer has checked in but already departed No-Show - customer did not\n",
        "\n",
        "check-in and did inform the hotel of the reason why reservation_status_date - Date at which the last status was set"
      ],
      "metadata": {
        "id": "aJV4KIxSnxay"
      }
    },
    {
      "cell_type": "markdown",
      "source": [
        "### Check Unique Values for each variable."
      ],
      "metadata": {
        "id": "u3PMJOP6ngxN"
      }
    },
    {
      "cell_type": "code",
      "source": [
        "# Check Unique Values for each variable.\n",
        "pd.Series(df.nunique()).sort_values(ascending=False)"
      ],
      "metadata": {
        "id": "zms12Yq5n-jE"
      },
      "execution_count": null,
      "outputs": []
    },
    {
      "cell_type": "markdown",
      "source": [
        "## 3. ***Data Wrangling***"
      ],
      "metadata": {
        "id": "dauF4eBmngu3"
      }
    },
    {
      "cell_type": "markdown",
      "source": [
        "### Data Wrangling Code"
      ],
      "metadata": {
        "id": "bKJF3rekwFvQ"
      }
    },
    {
      "cell_type": "code",
      "source": [
        "# Write your code to make your dataset analysis ready.\n",
        "df1 = df.copy()"
      ],
      "metadata": {
        "id": "wk-9a2fpoLcV"
      },
      "execution_count": null,
      "outputs": []
    },
    {
      "cell_type": "code",
      "source": [
        "df1.columns"
      ],
      "metadata": {
        "id": "hZgAguGtcBPu"
      },
      "execution_count": null,
      "outputs": []
    },
    {
      "cell_type": "code",
      "source": [
        "# replacing null values in  children column with 0 assuming that family had 0 children\n",
        "# replacing null values in company and agent column with 0 assuming those rooms were booked without company/agent\n",
        "df1['children'].fillna(0,inplace=True)\n",
        "df1['company'].fillna(0,inplace=True)\n",
        "df1['agent'].fillna(0,inplace=True)\n",
        "# replacing null values in country column as'Other'\n",
        "df1['country'].fillna('Others',inplace=True)"
      ],
      "metadata": {
        "id": "8AHB7X-vcVwj"
      },
      "execution_count": null,
      "outputs": []
    },
    {
      "cell_type": "code",
      "source": [
        "# checking for null values after replacing them\n",
        "df1.isnull().sum()"
      ],
      "metadata": {
        "id": "0dJDzi5wdFUF"
      },
      "execution_count": null,
      "outputs": []
    },
    {
      "cell_type": "code",
      "source": [
        "# dropping the 'company' column as it contain a lot of null values in coparison to other columns\n",
        "df1.drop(['company'],axis=1,inplace=True) #dropping the values vertically at axis 1 (columns)"
      ],
      "metadata": {
        "id": "phOMmCS8eWR3"
      },
      "execution_count": null,
      "outputs": []
    },
    {
      "cell_type": "code",
      "source": [
        "#dropping rows where no adults , children and babies are available because no bookings were made that day\n",
        "no_guest = df1[(df1['adults']==0) & (df1['children']==0) & (df1['babies']==0)]\n",
        "df1.drop(no_guest.index,inplace=True)"
      ],
      "metadata": {
        "id": "GRWCC39He_j-"
      },
      "execution_count": null,
      "outputs": []
    },
    {
      "cell_type": "code",
      "source": [
        "# adding some new columns to make our data analysis ready\n",
        "df1['total_stay'] = df1['stays_in_weekend_nights'] + df1['stays_in_week_nights'] # total nights spent by guest\n",
        "df1['total_people'] = df1['adults'] + df1['children'] + df1['babies'] # creating a column to heck total stay by people in that booking"
      ],
      "metadata": {
        "id": "dUfx6TE9fcm2"
      },
      "execution_count": null,
      "outputs": []
    },
    {
      "cell_type": "code",
      "source": [
        "# having a final look to check if our dataset is ready to analyse\n",
        "df1.head()"
      ],
      "metadata": {
        "id": "Ttb0WRZ_fu7M"
      },
      "execution_count": null,
      "outputs": []
    },
    {
      "cell_type": "code",
      "source": [
        "df1.tail()"
      ],
      "metadata": {
        "id": "G8AfThhKgkad"
      },
      "execution_count": null,
      "outputs": []
    },
    {
      "cell_type": "code",
      "source": [
        "# checking the final shape of the dataset\n",
        "print(f' final shape of the dataset is {df1.shape}')"
      ],
      "metadata": {
        "id": "T_EZ4Xvpgukn"
      },
      "execution_count": null,
      "outputs": []
    },
    {
      "cell_type": "markdown",
      "source": [
        "### What all manipulations have you done and insights you found?"
      ],
      "metadata": {
        "id": "MSa1f5Uengrz"
      }
    },
    {
      "cell_type": "markdown",
      "source": [
        "Created a copy of the dataset before doing any manipulation then filled missing values with 0 in children, company and agent columns as those columns had numerical values and in column country filled missing values with 'others'. after dealing with missing values I dropped the country column as this had 96% missing values and was of no use in our analysis. In next step I created 2 new columns named 'total_people' and 'total_stay' for further analysis. In total people column I added all the babies, children and adults. similarly in second new column I added weekend stay and week stay column.\n",
        "\n",
        "After doing all the manipulation I checked new manipulated dataset to check if this is ready to be analyzed.\n",
        "\n",
        "After manipulating the dataset these were the insights I found:\n",
        "\n",
        "1. There are 2 types of hotel which guests could book so I can find which type of hotel was booked most.\n",
        "\n",
        "2. There are different types of guests and they come from different countries.\n",
        "\n",
        "3. Guests can choose different foods from the menu.\n",
        "\n",
        "4. Guests can book hotel directly or through different channels that are available.\n",
        "\n",
        "5. Guests can cancel their booking and there are repeated guests also.\n",
        "\n",
        "6. Guests can choose rooms of their liking while booking.\n",
        "\n",
        "7. There is column available in the dataset named 'adr' which could be used to analyze hotel's performance on the basis of revenue."
      ],
      "metadata": {
        "id": "LbyXE7I1olp8"
      }
    },
    {
      "cell_type": "markdown",
      "source": [
        "## ***4. Data Vizualization, Storytelling & Experimenting with charts : Understand the relationships between variables***"
      ],
      "metadata": {
        "id": "GF8Ens_Soomf"
      }
    },
    {
      "cell_type": "markdown",
      "source": [
        "#### Chart - 1"
      ],
      "metadata": {
        "id": "0wOQAZs5pc--"
      }
    },
    {
      "cell_type": "markdown",
      "source": [
        "Which type of hotel is most prefferd by the guests?"
      ],
      "metadata": {
        "id": "jW0Byc3rpx4g"
      }
    },
    {
      "cell_type": "code",
      "source": [
        "# Chart - 1 visualization code\n",
        "# string unique hotel names in a variable\n",
        "hotel_names = df1['hotel'].unique()\n",
        "\n",
        "#checking the number of unique booking in each hotel type\n",
        "hotel_booking = df1['hotel'].value_counts()\n",
        "\n",
        "# creating a donut chart using plotly.express\n",
        "fig1 = px.pie(hotel_booking, values=hotel_booking.values, names=hotel_booking.index, hole=0.5, title='Hotel Booking Percentage')\n",
        "\n",
        "# updating the appearance of the chart\n",
        "fig1.update_traces(textposition='outside', textinfo='percent+label')\n",
        "fig1 .update_layout(legend=dict(orientation='h', yanchor='bottom', y=1.02, xanchor='center', x=0.5))"
      ],
      "metadata": {
        "id": "7v_ESjsspbW7"
      },
      "execution_count": null,
      "outputs": []
    },
    {
      "cell_type": "markdown",
      "source": [
        "Creating a Pie chart also for the above problem statement as Donut chart is not exported to github"
      ],
      "metadata": {
        "id": "IQ1EvAIJlzdy"
      }
    },
    {
      "cell_type": "code",
      "source": [
        "# count Hotel\n",
        "hotel_booking = df1['hotel'].value_counts()\n",
        "# plot\n",
        "plt.figure(figsize=(10,7))\n",
        "plt.pie(hotel_booking, labels=hotel_booking.index, autopct='%1.1f%%')\n",
        "plt.title('Hotel Booking Percentage')"
      ],
      "metadata": {
        "id": "YjfGA5xZly78"
      },
      "execution_count": null,
      "outputs": []
    },
    {
      "cell_type": "markdown",
      "source": [
        "##### 1. Why did you pick the specific chart?"
      ],
      "metadata": {
        "id": "K5QZ13OEpz2H"
      }
    },
    {
      "cell_type": "markdown",
      "source": [
        "I used Donut chart here because it is used to show the proportions of categorical data, with the size of each piece representing the proportion of each category."
      ],
      "metadata": {
        "id": "XESiWehPqBRc"
      }
    },
    {
      "cell_type": "markdown",
      "source": [
        "##### 2. What is/are the insight(s) found from the chart?"
      ],
      "metadata": {
        "id": "lQ7QKXXCp7Bj"
      }
    },
    {
      "cell_type": "markdown",
      "source": [
        "I found out that guests prefer Resort Hotel most over City Hotel."
      ],
      "metadata": {
        "id": "C_j1G7yiqdRP"
      }
    },
    {
      "cell_type": "markdown",
      "source": [
        "##### 3. Will the gained insights help creating a positive business impact?\n",
        "Are there any insights that lead to negative growth? Justify with specific reason."
      ],
      "metadata": {
        "id": "448CDAPjqfQr"
      }
    },
    {
      "cell_type": "markdown",
      "source": [
        "This insight is useful for the stakeholder to check which hotel is performing best and they can invest more capitals in that. There is no such negative growth but stakeholders can focus more on City Hotel to get more booking and icrease the overall revenue."
      ],
      "metadata": {
        "id": "3cspy4FjqxJW"
      }
    },
    {
      "cell_type": "markdown",
      "source": [
        "#### Chart - 2"
      ],
      "metadata": {
        "id": "KSlN3yHqYklG"
      }
    },
    {
      "cell_type": "markdown",
      "source": [
        "Which is percentage of hotel booking cancellation?"
      ],
      "metadata": {
        "id": "B4OjY5uep8ia"
      }
    },
    {
      "cell_type": "code",
      "source": [
        "# Chart - 2 visualization code\n",
        "# Extrcting and storing unique values of hotel cancelation\n",
        "cancelation = df1.is_canceled.value_counts()\n",
        "\n",
        "#creating a pie chart\n",
        "cancelation.plot.pie(explode=[0.05,0.05], autopct='%1.2f%%', shadow=True, figsize=(9,8),fontsize=15)\n",
        "\n",
        "#adding title\n",
        "plt.title('Percentage of Cancelation')"
      ],
      "metadata": {
        "id": "R4YgtaqtYklH"
      },
      "execution_count": null,
      "outputs": []
    },
    {
      "cell_type": "markdown",
      "source": [
        "##### 1. Why did you pick the specific chart?"
      ],
      "metadata": {
        "id": "t6dVpIINYklI"
      }
    },
    {
      "cell_type": "markdown",
      "source": [
        "I had to show a part-to-a-whole relationship and percentage of both the values and here pie chart was a good option to show segmented values."
      ],
      "metadata": {
        "id": "5aaW0BYyYklI"
      }
    },
    {
      "cell_type": "markdown",
      "source": [
        "##### 2. What is/are the insight(s) found from the chart?"
      ],
      "metadata": {
        "id": "ijmpgYnKYklI"
      }
    },
    {
      "cell_type": "markdown",
      "source": [
        "Here we can see that around 72.48% bookins are not canceled by guests but around 27.52% bookings are canceled by guests"
      ],
      "metadata": {
        "id": "PSx9atu2YklI"
      }
    },
    {
      "cell_type": "markdown",
      "source": [
        "##### 3. Will the gained insights help creating a positive business impact?\n",
        "Are there any insights that lead to negative growth? Justify with specific reason."
      ],
      "metadata": {
        "id": "-JiQyfWJYklI"
      }
    },
    {
      "cell_type": "markdown",
      "source": [
        "This insight will help stakeholders in comparing the cancellation and non cancellation of bookings. With the help of this insight stakeholders can offer rescheduling the bookings instead of cancellation and set a flexible cancellation policy to reduce booking cancellation."
      ],
      "metadata": {
        "id": "BcBbebzrYklV"
      }
    },
    {
      "cell_type": "markdown",
      "source": [
        "#### Chart - 3"
      ],
      "metadata": {
        "id": "EM7whBJCYoAo"
      }
    },
    {
      "cell_type": "markdown",
      "source": [
        "Which type of meal is most preffered by guests?"
      ],
      "metadata": {
        "id": "r0HcDJSoqKSk"
      }
    },
    {
      "cell_type": "code",
      "source": [
        "# Chart - 3 visualization code\n",
        "# Counting each meal type\n",
        "meal_type = df1['meal'].value_counts()\n",
        "\n",
        "# Exracting each meal type and storing in a variable\n",
        "meal_name = df1['meal'].unique()\n",
        "\n",
        "# Creating a dataset of each meal type and count\n",
        "meal_df = pd.DataFrame({'meal':meal_name,'count':meal_type})\n",
        "\n",
        "# Visualising the values on a bar chart\n",
        "plt.figure(figsize=(10,7))\n",
        "sns.barplot(x='meal',y='count',data=meal_df)\n",
        "plt.title('Most preffred meal Type', fontsize = 25)\n",
        "plt.xlabel('Meal Type', fontsize = 15)\n",
        "plt.ylabel('Count', fontsize = 15)\n",
        "\n"
      ],
      "metadata": {
        "id": "t6GMdE67YoAp"
      },
      "execution_count": null,
      "outputs": []
    },
    {
      "cell_type": "markdown",
      "source": [
        "Meal type variable description:\n",
        "\n",
        "BB - (Bed and Breakfast)\n",
        "\n",
        "HB- (Half Board)\n",
        "\n",
        "FB- (Full Board)\n",
        "\n",
        "SC- (Self Catering)"
      ],
      "metadata": {
        "id": "BkShtWJ-tKnV"
      }
    },
    {
      "cell_type": "markdown",
      "source": [
        "##### 1. Why did you pick the specific chart?"
      ],
      "metadata": {
        "id": "fge-S5ZAYoAp"
      }
    },
    {
      "cell_type": "markdown",
      "source": [
        "There were 4 values to compare and Bar graphs are used to compare things between different groups that is why I used this chart."
      ],
      "metadata": {
        "id": "5dBItgRVYoAp"
      }
    },
    {
      "cell_type": "markdown",
      "source": [
        "##### 2. What is/are the insight(s) found from the chart?"
      ],
      "metadata": {
        "id": "85gYPyotYoAp"
      }
    },
    {
      "cell_type": "markdown",
      "source": [
        "After visualizing the above chart we can see that BB - (Bed and Breakfast) is the most preffered meal type by guests."
      ],
      "metadata": {
        "id": "4jstXR6OYoAp"
      }
    },
    {
      "cell_type": "markdown",
      "source": [
        "##### 3. Will the gained insights help creating a positive business impact?\n",
        "Are there any insights that lead to negative growth? Justify with specific reason."
      ],
      "metadata": {
        "id": "RoGjAbkUYoAp"
      }
    },
    {
      "cell_type": "markdown",
      "source": [
        "Yes, from the gained insight above now stakeholders know that BB(Bed and Breakfast) is most preferred meal type so they can arrange raw material for this meal in advance and deliver the meal without any delay."
      ],
      "metadata": {
        "id": "zfJ8IqMcYoAp"
      }
    },
    {
      "cell_type": "markdown",
      "source": [
        "#### Chart - 4"
      ],
      "metadata": {
        "id": "4Of9eVA-YrdM"
      }
    },
    {
      "cell_type": "markdown",
      "source": [
        "Which year has the most bookings ?"
      ],
      "metadata": {
        "id": "8L1_uTQY10h8"
      }
    },
    {
      "cell_type": "code",
      "source": [
        "# Chart - 4 visualization code\n",
        "# Plotting with countplot\n",
        "plt.figure(figsize=(10,7))\n",
        "sns.countplot(x=df1 ['arrival_date_year'], hue=df1['hotel'])\n",
        "plt.title('Number of bookings across year', fontsize = 25)\n",
        "plt.xlabel('Year', fontsize = 15)"
      ],
      "metadata": {
        "id": "irlUoxc8YrdO"
      },
      "execution_count": null,
      "outputs": []
    },
    {
      "cell_type": "markdown",
      "source": [
        "##### 1. Why did you pick the specific chart?"
      ],
      "metadata": {
        "id": "iky9q4vBYrdO"
      }
    },
    {
      "cell_type": "markdown",
      "source": [
        "Bar graphs are used to compare things between different groups that is why I used this chart."
      ],
      "metadata": {
        "id": "aJRCwT6DYrdO"
      }
    },
    {
      "cell_type": "markdown",
      "source": [
        "##### 2. What is/are the insight(s) found from the chart?"
      ],
      "metadata": {
        "id": "F6T5p64dYrdO"
      }
    },
    {
      "cell_type": "markdown",
      "source": [
        "From above insight I found out that hotel was booked most times in year 2016"
      ],
      "metadata": {
        "id": "Xx8WAJvtYrdO"
      }
    },
    {
      "cell_type": "markdown",
      "source": [
        "##### 3. Will the gained insights help creating a positive business impact?\n",
        "Are there any insights that lead to negative growth? Justify with specific reason."
      ],
      "metadata": {
        "id": "y-Ehk30pYrdP"
      }
    },
    {
      "cell_type": "markdown",
      "source": [
        "Above insight shows that number of booking was declined after year 2016. Stakeholders can now what went wrong after 2016 and fix that problem to increase the umber of bookings. One way to do this is ask for feedbacks from guests and have a meeting with old employees who else were serving int the year 2016."
      ],
      "metadata": {
        "id": "jLNxxz7MYrdP"
      }
    },
    {
      "cell_type": "markdown",
      "source": [
        "#### Chart - 5"
      ],
      "metadata": {
        "id": "bamQiAODYuh1"
      }
    },
    {
      "cell_type": "markdown",
      "source": [
        "Which month has the most booking in each hotel type?"
      ],
      "metadata": {
        "id": "x6Pe2diK3PKg"
      }
    },
    {
      "cell_type": "code",
      "source": [
        "# Chart - 5 visualization code\n",
        "plt.figure(figsize=(15,5))\n",
        "sns.countplot(x=df1 ['arrival_date_month'], hue=df1['hotel'])\n",
        "plt.title('Number of bookings across month', fontsize = 25)\n",
        "plt.xlabel('Month', fontsize = 15)\n"
      ],
      "metadata": {
        "id": "TIJwrbroYuh3"
      },
      "execution_count": null,
      "outputs": []
    },
    {
      "cell_type": "markdown",
      "source": [
        "##### 1. Why did you pick the specific chart?"
      ],
      "metadata": {
        "id": "QHF8YVU7Yuh3"
      }
    },
    {
      "cell_type": "markdown",
      "source": [
        "I had to compare values across the months and for that bar chart was one of the best choice."
      ],
      "metadata": {
        "id": "dcxuIMRPYuh3"
      }
    },
    {
      "cell_type": "markdown",
      "source": [
        "##### 2. What is/are the insight(s) found from the chart?"
      ],
      "metadata": {
        "id": "GwzvFGzlYuh3"
      }
    },
    {
      "cell_type": "markdown",
      "source": [
        "Above insight shows that August and July ware 2 most busy months in compare to others."
      ],
      "metadata": {
        "id": "uyqkiB8YYuh3"
      }
    },
    {
      "cell_type": "markdown",
      "source": [
        "##### 3. Will the gained insights help creating a positive business impact?\n",
        "Are there any insights that lead to negative growth? Justify with specific reason."
      ],
      "metadata": {
        "id": "qYpmQ266Yuh3"
      }
    },
    {
      "cell_type": "markdown",
      "source": [
        "There is negative insight but hotel can use this insight to arrange everything in advance and welcome their guest in the best way possible and hotel can also run some promotional offer in these 2 months to attract more guests."
      ],
      "metadata": {
        "id": "_WtzZ_hCYuh4"
      }
    },
    {
      "cell_type": "markdown",
      "source": [
        "#### Chart - 6"
      ],
      "metadata": {
        "id": "OH-pJp9IphqM"
      }
    },
    {
      "cell_type": "markdown",
      "source": [
        "How long people stay in the hotel?"
      ],
      "metadata": {
        "id": "Op_cbfmx3vXj"
      }
    },
    {
      "cell_type": "code",
      "source": [
        "# Chart - 6 visualization code\n",
        "# Creating a not cancelled dataframe\n",
        "not_canceled = df1[df1['is_canceled'] == 0]\n",
        "\n",
        "# Creating a dataframe of total stay\n",
        "total_stay = not_canceled['total_stay']\n",
        "\n",
        "# setting plot size and plotting barchart\n",
        "plt.figure(figsize=(15,5))\n",
        "sns.countplot(x=total_stay, hue=df1['hotel'])\n",
        "plt.title('Total number of stay in each hotel', fontsize = 25)\n",
        "plt.xlabel('Total Stay', fontsize = 15)\n",
        "plt.ylabel('Count', fontsize = 15)"
      ],
      "metadata": {
        "id": "kuRf4wtuphqN"
      },
      "execution_count": null,
      "outputs": []
    },
    {
      "cell_type": "markdown",
      "source": [
        "From the above chart we can see that in City hotel most people stay for 3 days and in Resort hotel  most people stay for only 1 day. Hotel should work on to increase total stay in Resort hotel to increase revenue."
      ],
      "metadata": {
        "id": "loh7H2nzphqN"
      }
    },
    {
      "cell_type": "markdown",
      "source": [
        "#### Chart - 7"
      ],
      "metadata": {
        "id": "PIIx-8_IphqN"
      }
    },
    {
      "cell_type": "markdown",
      "source": [
        "Which distribution channel is most used in booking"
      ],
      "metadata": {
        "id": "XFjXbYWi7c4x"
      }
    },
    {
      "cell_type": "code",
      "source": [
        "# Chart - 7 visualization code\n",
        "# creating a dataset of distribution channel name and count\n",
        "dist_df = df1['distribution_channel'].value_counts().reset_index()\n",
        "\n",
        "#renaming the columns to approproiate names\n",
        "dist_df.columns=['distribution_channel','count']\n",
        "\n",
        "#creating a explode data\n",
        "my_explode = [0.05,0.05,0.05,0.05,0.05]\n",
        "\n",
        "# adding percentage columns to the distribution_channel_df\n",
        "dist_df['percentage'] = (dist_df['count']/dist_df['count'].sum())*50\n",
        "\n",
        "#decinding the figure size\n",
        "plt.figure(figsize=(15,5))\n",
        "\n",
        "#plotting the chart value\n",
        "plt.pie(dist_df['count'],labels=dist_df['distribution_channel'],explode=my_explode,startangle = 50)\n",
        "\n",
        "# adding legends with percentage using list comprehension\n",
        "labels = [f'{label} ({percent:.1f}%)' for label, percent in zip(dist_df['distribution_channel'], dist_df['percentage'])]\n",
        "\n",
        "plt.legend(labels, loc='upper right')\n",
        "\n",
        "# setting the chart title\n",
        "plt.title('Distribution Channel')\n",
        "\n",
        "#show the chart\n",
        "plt.axis('equal')\n",
        "plt.show()"
      ],
      "metadata": {
        "id": "lqAIGUfyphqO"
      },
      "execution_count": null,
      "outputs": []
    },
    {
      "cell_type": "markdown",
      "source": [
        "##### 1. Why did you pick the specific chart?"
      ],
      "metadata": {
        "id": "t27r6nlMphqO"
      }
    },
    {
      "cell_type": "markdown",
      "source": [
        "Pie chart is one of the best chart to visualize categoriacal data."
      ],
      "metadata": {
        "id": "iv6ro40sphqO"
      }
    },
    {
      "cell_type": "markdown",
      "source": [
        "##### 2. What is/are the insight(s) found from the chart?"
      ],
      "metadata": {
        "id": "r2jJGEOYphqO"
      }
    },
    {
      "cell_type": "markdown",
      "source": [
        "From the above insight it is clear that TA/TO (travel agents/pur operators) is most used distribution channel by guests."
      ],
      "metadata": {
        "id": "Po6ZPi4hphqO"
      }
    },
    {
      "cell_type": "markdown",
      "source": [
        "##### 3. Will the gained insights help creating a positive business impact?\n",
        "Are there any insights that lead to negative growth? Justify with specific reason."
      ],
      "metadata": {
        "id": "b0JNsNcRphqO"
      }
    },
    {
      "cell_type": "markdown",
      "source": [
        "There is no negative insight. Hotels can run promotional offers to motivate other channels to contribute more in bookings."
      ],
      "metadata": {
        "id": "xvSq8iUTphqO"
      }
    },
    {
      "cell_type": "markdown",
      "source": [
        "#### Chart - 8"
      ],
      "metadata": {
        "id": "BZR9WyysphqO"
      }
    },
    {
      "cell_type": "markdown",
      "source": [
        "Which room type is most preffered by guests?"
      ],
      "metadata": {
        "id": "ZrjW2nR2BJXp"
      }
    },
    {
      "cell_type": "code",
      "source": [
        "# Chart - 8 visualization code\n",
        "# setting the figure size\n",
        "plt.figure(figsize=(15,5))\n",
        "\n",
        "# plotting the chart\n",
        "sns.countplot(x=df1['reserved_room_type'],order=df1['reserved_room_type'].value_counts().index)\n",
        "\n",
        "# setting the chart title\n",
        "plt.title('Preffered Room Type by guest')\n",
        "\n",
        "# show the chart\n",
        "plt.show()"
      ],
      "metadata": {
        "id": "TdPTWpAVphqO"
      },
      "execution_count": null,
      "outputs": []
    },
    {
      "cell_type": "markdown",
      "source": [
        "##### 1. Why did you pick the specific chart?"
      ],
      "metadata": {
        "id": "jj7wYXLtphqO"
      }
    },
    {
      "cell_type": "markdown",
      "source": [
        "A bar plot shows catergorical data as rectangular bars with the height of bars proportional to the value they represent. It is often used to compare between values of different categories in the data."
      ],
      "metadata": {
        "id": "Ob8u6rCTphqO"
      }
    },
    {
      "cell_type": "markdown",
      "source": [
        "##### 2. What is/are the insight(s) found from the chart?"
      ],
      "metadata": {
        "id": "eZrbJ2SmphqO"
      }
    },
    {
      "cell_type": "markdown",
      "source": [
        "By observing the above chart we can understand that the room type A most preffered (almost 55,000) by the guests while booking the hotel"
      ],
      "metadata": {
        "id": "mZtgC_hjphqO"
      }
    },
    {
      "cell_type": "markdown",
      "source": [
        "##### 3. Will the gained insights help creating a positive business impact?\n",
        "Are there any insights that lead to negative growth? Justify with specific reason."
      ],
      "metadata": {
        "id": "rFu4xreNphqO"
      }
    },
    {
      "cell_type": "markdown",
      "source": [
        "As it is clear that room type A is most used hotel should increase the number of A type room to maximize the revenue."
      ],
      "metadata": {
        "id": "ey_0qi68phqO"
      }
    },
    {
      "cell_type": "markdown",
      "source": [
        "#### Chart - 9"
      ],
      "metadata": {
        "id": "YJ55k-q6phqO"
      }
    },
    {
      "cell_type": "markdown",
      "source": [
        "Which room type is most assigned?\n"
      ],
      "metadata": {
        "id": "1uYJPUwOE6MM"
      }
    },
    {
      "cell_type": "code",
      "source": [
        "# Chart - 9 visualization code\n",
        "# Setting the figure size\n",
        "plt.figure(figsize=(15,5))\n",
        "\n",
        "# Plotting the values\n",
        "sns.countplot(x=df1['assigned_room_type'],order=df1['assigned_room_type'].value_counts().index)\n",
        "\n",
        "#setting the title\n",
        "plt.title('Assigned Room Type')\n",
        "\n",
        "#show the chart\n",
        "plt.show()"
      ],
      "metadata": {
        "id": "B2aS4O1ophqO"
      },
      "execution_count": null,
      "outputs": []
    },
    {
      "cell_type": "markdown",
      "source": [
        "##### 1. Why did you pick the specific chart?"
      ],
      "metadata": {
        "id": "gCFgpxoyphqP"
      }
    },
    {
      "cell_type": "markdown",
      "source": [
        "A bar plot shows catergorical data as rectangular bars with the height of bars proportional to the value they represent."
      ],
      "metadata": {
        "id": "TVxDimi2phqP"
      }
    },
    {
      "cell_type": "markdown",
      "source": [
        "##### 2. What is/are the insight(s) found from the chart?"
      ],
      "metadata": {
        "id": "OVtJsKN_phqQ"
      }
    },
    {
      "cell_type": "markdown",
      "source": [
        "From the above chart it is clear that room type A is most assigned to guests."
      ],
      "metadata": {
        "id": "ngGi97qjphqQ"
      }
    },
    {
      "cell_type": "markdown",
      "source": [
        "##### 3. Will the gained insights help creating a positive business impact?\n",
        "Are there any insights that lead to negative growth? Justify with specific reason."
      ],
      "metadata": {
        "id": "lssrdh5qphqQ"
      }
    },
    {
      "cell_type": "markdown",
      "source": [
        "In the 8th chart we saw that around 55,000 guests preffered room type A but 45,000 people were assigned A type room. This could be a reason to cancel the bookings. Hotel could increase A type room to decrease cancellation."
      ],
      "metadata": {
        "id": "tBpY5ekJphqQ"
      }
    },
    {
      "cell_type": "markdown",
      "source": [
        "#### Chart - 10"
      ],
      "metadata": {
        "id": "U2RJ9gkRphqQ"
      }
    },
    {
      "cell_type": "markdown",
      "source": [
        "What is the percentage of repeated guests?"
      ],
      "metadata": {
        "id": "XXWMlh3ZGGGS"
      }
    },
    {
      "cell_type": "code",
      "source": [
        "# chart 10 visualization code\n",
        "# creating a variable containing guests with their repeated counts\n",
        "rep_guest = df1['is_repeated_guest'].value_counts()\n",
        "\n",
        "# plotting the values in the pie chart\n",
        "rep_guest.plot.pie(explode=[0.05,0.09], autopct='%1.2f%%', shadow=True, figsize=(15,6),fontsize=15)\n",
        "\n",
        "# setting the title\n",
        "plt.title('Percentage of Repeated Guests',fontsize=20)\n",
        "\n",
        "#setting the chart in centre\n",
        "plt.axis('equal')\n",
        "\n",
        "#show the chart\n",
        "plt.show()"
      ],
      "metadata": {
        "id": "Hhp_EuwLLhto"
      },
      "execution_count": null,
      "outputs": []
    },
    {
      "cell_type": "markdown",
      "source": [
        "##### 1. Why did you pick the specific chart?"
      ],
      "metadata": {
        "id": "1M8mcRywphqQ"
      }
    },
    {
      "cell_type": "markdown",
      "source": [
        "A pie chart helps organize and show data as a percentage of a whole"
      ],
      "metadata": {
        "id": "8agQvks0phqQ"
      }
    },
    {
      "cell_type": "markdown",
      "source": [
        "##### 2. What is/are the insight(s) found from the chart?"
      ],
      "metadata": {
        "id": "tgIPom80phqQ"
      }
    },
    {
      "cell_type": "markdown",
      "source": [
        "From the above insight we can see that 3.86% guests are repeated guests"
      ],
      "metadata": {
        "id": "Qp13pnNzphqQ"
      }
    },
    {
      "cell_type": "markdown",
      "source": [
        "##### 3. Will the gained insights help creating a positive business impact?\n",
        "Are there any insights that lead to negative growth? Justify with specific reason."
      ],
      "metadata": {
        "id": "JMzcOPDDphqR"
      }
    },
    {
      "cell_type": "markdown",
      "source": [
        "We can see that number of repeated guests is very low and it shows negative growth of the hotel. Hotel can offer loyality discount to their guests to increase repeated guests."
      ],
      "metadata": {
        "id": "R4Ka1PC2phqR"
      }
    },
    {
      "cell_type": "markdown",
      "source": [
        "#### Chart - 11"
      ],
      "metadata": {
        "id": "x-EpHcCOp1ci"
      }
    },
    {
      "cell_type": "markdown",
      "source": [
        "Which customer type has the most booking?\n"
      ],
      "metadata": {
        "id": "eVl3kit0Ms27"
      }
    },
    {
      "cell_type": "code",
      "source": [
        "# Chart - 11 visualization code\n",
        "# creating a variable containing customer type with their counts\n",
        "cust_type = df1['customer_type'].value_counts()\n",
        "\n",
        "# plotting the values in the line chart\n",
        "cust_type.plot(figsize=(15,5))\n",
        "\n",
        "#setting the x label , y label and title\n",
        "plt.xlabel('Customer Type')\n",
        "plt.ylabel('Count')\n",
        "plt.title('Customer Type')\n",
        "\n",
        "#show the chart\n",
        "plt.show()"
      ],
      "metadata": {
        "id": "mAQTIvtqp1cj"
      },
      "execution_count": null,
      "outputs": []
    },
    {
      "cell_type": "markdown",
      "source": [
        "##### 1. Why did you pick the specific chart?"
      ],
      "metadata": {
        "id": "X_VqEhTip1ck"
      }
    },
    {
      "cell_type": "markdown",
      "source": [
        "Line graphs are used to track changes over different categories."
      ],
      "metadata": {
        "id": "-vsMzt_np1ck"
      }
    },
    {
      "cell_type": "markdown",
      "source": [
        "##### 2. What is/are the insight(s) found from the chart?"
      ],
      "metadata": {
        "id": "8zGJKyg5p1ck"
      }
    },
    {
      "cell_type": "markdown",
      "source": [
        "We can see that Transient customer type has most number of bookings."
      ],
      "metadata": {
        "id": "ZYdMsrqVp1ck"
      }
    },
    {
      "cell_type": "markdown",
      "source": [
        "##### 3. Will the gained insights help creating a positive business impact?\n",
        "Are there any insights that lead to negative growth? Justify with specific reason."
      ],
      "metadata": {
        "id": "PVzmfK_Ep1ck"
      }
    },
    {
      "cell_type": "markdown",
      "source": [
        "Hotel can run promotional offers to increase the number of bookings over other categories, such as hotel could offer discounts for groups."
      ],
      "metadata": {
        "id": "druuKYZpp1ck"
      }
    },
    {
      "cell_type": "markdown",
      "source": [
        "#### Chart - 12"
      ],
      "metadata": {
        "id": "n3dbpmDWp1ck"
      }
    },
    {
      "cell_type": "markdown",
      "source": [
        "Which market segment has the most booking?"
      ],
      "metadata": {
        "id": "Q-INKdBlNvqN"
      }
    },
    {
      "cell_type": "code",
      "source": [
        "# Chart - 12 visualization code\n",
        "plt.figure(figsize=(15,5))\n",
        "sns.countplot(x=df1['market_segment'],order=df1['market_segment'].value_counts().index)\n",
        "plt.title('Market Segment')\n",
        "plt.show()"
      ],
      "metadata": {
        "id": "bwevp1tKp1ck"
      },
      "execution_count": null,
      "outputs": []
    },
    {
      "cell_type": "markdown",
      "source": [
        "##### 1. Why did you pick the specific chart?"
      ],
      "metadata": {
        "id": "ylSl6qgtp1ck"
      }
    },
    {
      "cell_type": "markdown",
      "source": [
        "A bar plot shows catergorical data as rectangular bars with the height of bars proportional to the value they represent."
      ],
      "metadata": {
        "id": "m2xqNkiQp1ck"
      }
    },
    {
      "cell_type": "markdown",
      "source": [
        "##### 2. What is/are the insight(s) found from the chart?"
      ],
      "metadata": {
        "id": "ZWILFDl5p1ck"
      }
    },
    {
      "cell_type": "markdown",
      "source": [
        "Above insight shows that Online TA (Travel Agent) has the most bookings."
      ],
      "metadata": {
        "id": "x-lUsV2mp1ck"
      }
    },
    {
      "cell_type": "markdown",
      "source": [
        "##### 3. Will the gained insights help creating a positive business impact?\n",
        "Are there any insights that lead to negative growth? Justify with specific reason."
      ],
      "metadata": {
        "id": "M7G43BXep1ck"
      }
    },
    {
      "cell_type": "markdown",
      "source": [
        "There is no negative growth. Hotel should come up with some great idea to increase sahre among other market segments to increase the revenue."
      ],
      "metadata": {
        "id": "5wwDJXsLp1cl"
      }
    },
    {
      "cell_type": "markdown",
      "source": [
        "#### Chart - 13"
      ],
      "metadata": {
        "id": "Ag9LCva-p1cl"
      }
    },
    {
      "cell_type": "markdown",
      "source": [
        "Which deposite type is most preffered?"
      ],
      "metadata": {
        "id": "dCMu3XcNOSBO"
      }
    },
    {
      "cell_type": "code",
      "source": [
        "# Chart - 13 visualization code\n",
        "# counting each deposite type\n",
        "deposite = df1['deposit_type'].value_counts().index\n",
        "\n",
        "\n",
        "# setting the chart size\n",
        "plt.figure(figsize=(8,4))\n",
        "\n",
        "# plotting the values\n",
        "sns.countplot(x=df1['deposit_type'],order=deposite)\n",
        "\n",
        "# setting the title\n",
        "plt.title('Deposite Type')\n",
        "\n",
        "# show the chart\n",
        "plt.show()\n"
      ],
      "metadata": {
        "id": "EUfxeq9-p1cl"
      },
      "execution_count": null,
      "outputs": []
    },
    {
      "cell_type": "markdown",
      "source": [
        "Bivariate and multivariate analysis"
      ],
      "metadata": {
        "id": "EB488mocWkEU"
      }
    },
    {
      "cell_type": "markdown",
      "source": [
        "#### Chart - 14 - Correlation Heatmap"
      ],
      "metadata": {
        "id": "NC_X3p0fY2L0"
      }
    },
    {
      "cell_type": "code",
      "source": [
        "# Correlation Heatmap visualization code\n",
        "# Setting the chart size\n",
        "plt.figure(figsize=(15,10))\n",
        "\n",
        "# Creating heatmap to see correlation of each columns\n",
        "sns.heatmap(df1.corr(numeric_only=True),annot=True)     #Setting the numeric only columns to true to avoid warning\n",
        "\n",
        "# setting the title\n",
        "plt.title('Correlation of the columns', fontsize=20)\n",
        "\n",
        "# show heatmap\n",
        "plt.show()"
      ],
      "metadata": {
        "id": "xyC9zolEZNRQ"
      },
      "execution_count": null,
      "outputs": []
    },
    {
      "cell_type": "markdown",
      "source": [
        "##### 1. Why did you pick the specific chart?"
      ],
      "metadata": {
        "id": "UV0SzAkaZNRQ"
      }
    },
    {
      "cell_type": "markdown",
      "source": [
        "Correlation heatmaps was used to find potential relationships between variables and to understand the strength of these relationships."
      ],
      "metadata": {
        "id": "DVPuT8LYZNRQ"
      }
    },
    {
      "cell_type": "markdown",
      "source": [
        "##### 2. What is/are the insight(s) found from the chart?"
      ],
      "metadata": {
        "id": "YPEH6qLeZNRQ"
      }
    },
    {
      "cell_type": "markdown",
      "source": [
        "1) lead_time and total_stay is positively corelated. that means if customers stay more then the lead time increases.\n",
        "\n",
        "2)adults, childrens and babies are corelated to each other. That means more the people more will be adr.\n",
        "\n",
        "3) is_repeated guest and previous bookings not canceled has strong corelation. That means repeated guests don't cancel their bookings.**"
      ],
      "metadata": {
        "id": "bfSqtnDqZNRR"
      }
    },
    {
      "cell_type": "markdown",
      "source": [
        "#### Chart - 15 - Pair Plot"
      ],
      "metadata": {
        "id": "q29F0dvdveiT"
      }
    },
    {
      "cell_type": "code",
      "source": [
        "# Pair Plot visualization code\n",
        "sns.pairplot(df1)\n",
        "plt.show()\n"
      ],
      "metadata": {
        "id": "o58-TEIhveiU"
      },
      "execution_count": null,
      "outputs": []
    },
    {
      "cell_type": "markdown",
      "source": [
        "##### 1. Why did you pick the specific chart?"
      ],
      "metadata": {
        "id": "EXh0U9oCveiU"
      }
    },
    {
      "cell_type": "markdown",
      "source": [
        "A pairs plot allows us to see both distribution of single variables and relationships between two variables.\n",
        "\n",
        "We can see the realtionship between all the columns with each other in above chart.\n",
        "\n",
        "1. From the above pair plot we can see that if cancellation increases then total stay also decreases.\n",
        "\n",
        "2. As the total number of people increases adr also increases. Thus adr and total people are directly proportional to each other."
      ],
      "metadata": {
        "id": "eMmPjTByveiU"
      }
    },
    {
      "cell_type": "markdown",
      "source": [
        "## **5. Solution to Business Objective**"
      ],
      "metadata": {
        "id": "JcMwzZxoAimU"
      }
    },
    {
      "cell_type": "markdown",
      "source": [
        "#### What do you suggest the client to achieve Business Objective ?\n",
        "Explain Briefly."
      ],
      "metadata": {
        "id": "8G2x9gOozGDZ"
      }
    },
    {
      "cell_type": "markdown",
      "source": [
        "1. Resort Hotel is most preffered so Stakeholders can offer discounts on City Hotel to increase bookings.\n",
        "\n",
        "2. Around 27.52% of bookings are cancelled so Hotel can offer layality discount if guests don't cnacel their booking.\n",
        "\n",
        "3. Hotel can maintain raw materials for BB type meal in advance to avoid delay as BB(Bead and Breakfast) is the most preffered meal.\n",
        "\n",
        "4. Hotel should increase number of rooms in City Hotels to decrease the waiting time.\n",
        "\n",
        "5. TA has the most number of bookings over other MArket segments so Hotel could run some offer to get more bookings from otehr segment.\n",
        "\n",
        "6. Room type A is most preffered by guests so Hotel should increase the number of A type room.\n",
        "\n",
        "7. Number of repeated guests is low that indicates that there is something they don't like about Hotel and that needs to be fixed to increase number of repeated guests.\n",
        "\n",
        "8. Waiting time period for City hotel is high as compared to resort hotels. That means city hotels are much busier than Resort hotels.\n",
        "\n",
        "9. Optimal stay in both the type hotel is less than 7 days. Usually people stay for a week so Hotel need to take some actions to improve their performance.\n",
        "\n",
        "10. Maximum number of guests were from Portugal."
      ],
      "metadata": {
        "id": "pASKb0qOza21"
      }
    },
    {
      "cell_type": "markdown",
      "source": [
        "# **Conclusion**"
      ],
      "metadata": {
        "id": "gCX9965dhzqZ"
      }
    },
    {
      "cell_type": "markdown",
      "source": [
        "Inorder to achieve the business objective, i would suggest the client to make the price dynamic, introduce offers and packages to attract new customers. To retain the existing customers and ensure their repetition the client must introduce loyalty points program which can be redeemed by the customers in their next bookings. Amenities such as parking spaces, kids corner, free internet connection can be provided to increase the number of bookings."
      ],
      "metadata": {
        "id": "Fjb1IsQkh3yE"
      }
    },
    {
      "cell_type": "markdown",
      "source": [
        "### ***Hurrah! You have successfully completed your EDA Capstone Project !!!***"
      ],
      "metadata": {
        "id": "gIfDvo9L0UH2"
      }
    }
  ]
}